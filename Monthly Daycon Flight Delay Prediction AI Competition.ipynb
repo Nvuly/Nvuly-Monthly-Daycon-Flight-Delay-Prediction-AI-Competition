{
 "cells": [
  {
   "cell_type": "markdown",
   "metadata": {},
   "source": [
    "# Monthly Daycon Flight Delay Prediction AI Competition "
   ]
  },
  {
   "cell_type": "code",
   "execution_count": null,
   "metadata": {},
   "outputs": [],
   "source": [
    "#안녕하세요. 데이콘입니다.\n",
    "#\n",
    "#이번 대회는 LogLoss를 통해 모델의 성능을 평가하기에,\n",
    "#predict가 아닌 predict_proba를 이용해서 추론을 진행했습니다.\n",
    "#\n",
    "#데이콘 베이스라인은 모든 참가자의 '제출'을 목표로 합니다. \n",
    "#해당 내용에 관한 질문은 [토크] 게시판에 게시해 주세요.\n",
    "#\n",
    "#베이스라인이 여러분만의 고도화된 모델 작성에 도움이 되면 좋겠습니다.\n",
    "#\n",
    "#감사합니다. \n",
    "#데이콘 드림\n",
    "\n",
    "'''\n",
    "-train.csv [파일]\n",
    "1,000,000개의 데이터\n",
    "ID : 샘플 고유 id\n",
    "항공편 운항 관련 정보\n",
    "Month: 해당 항공편의 출발 월\n",
    "Day_of_Month: Month에 해당하는 월의 날짜\n",
    "Estimated_Departure_Time: 전산 시스템을 바탕으로 측정된 비행기의 출발 시간 (현지 시각, HH:MM 형식)\n",
    "Estimated_Arrival_Time: 전산 시스템을 바탕으로 측정된 비행기의 도착 시간 (현지 시각, HH:MM 형식)\n",
    "Cancelled: 해당 항공편의 취소 여부 (0: 취소되지 않음, 1: 취소됨)\n",
    "Diverted: 해당 항공편의 경유 여부 (0: 취소되지 않음, 1: 취소됨)\n",
    "Origin_Airport: 해당 항공편 출발 공항의 고유 코드 (IATA 공항 코드)\n",
    "Origin_Airport_ID: 해당 항공편 출발 공항의 고유 ID (US DOT ID)\n",
    "Origin_State: 해당 항공편 출발 공항이 위치한 주의 이름\n",
    "Destination_Airport: 해당 항공편 도착 공항의 고유 코드 (IATA 공항 코드)\n",
    "Destination_Airport_ID: 해당 항공편 도착 공항의 고유 ID (US DOT ID)\n",
    "Destination_State: 해당 항공편 도착 공항이 위치한 주의 이름\n",
    "Distance: 출발 공항과 도착 공항 사이의 거리 (mile 단위)\n",
    "Airline: 해당 항공편을 운항하는 항공사\n",
    "Carrier_Code(IATA): 해당 항공편을 운항하는 항공사의 고유 코드 \n",
    "(IATA 공항 코드, 단 다른 항공사가 같은 코드를 보유할 수도 있음)\n",
    "Carrier_ID(DOT): 해당 항공편을 운항하는 항공사의 고유 ID (US DOT ID)\n",
    "Tail_Number: 해당 항공편을 운항하는 항공기의 고유 등록번호\n",
    "Delay: 항공편 지연 여부 (Not_Delayed, Delayed)\n",
    "예측해야 하는 타깃\n",
    "다수의 데이터에 레이블이 존재하지 않음\n",
    "준지도학습을 통해 레이블링 가능\n",
    "'''"
   ]
  },
  {
   "cell_type": "code",
   "execution_count": null,
   "metadata": {},
   "outputs": [],
   "source": [
    "'''\n",
    "test.csv [파일]\n",
    "1,000,000개의 데이터\n",
    "ID : 샘플 고유 id\n",
    "항공편 운항 관련 정보\n",
    "Month: 해당 항공편의 출발 월\n",
    "Day_of_Month: Month에 해당하는 월의 날짜\n",
    "Estimated_Departure_Time: 전산 시스템을 바탕으로 측정된 비행기의 출발 시간 (현지 시각, HH:MM 형식)\n",
    "Estimated_Arrival_Time: 전산 시스템을 바탕으로 측정된 비행기의 도착 시간 (현지 시각, HH:MM 형식)\n",
    "Cancelled: 해당 항공편의 취소 여부 (0: 취소되지 않음, 1: 취소됨)\n",
    "Diverted: 해당 항공편의 경유 여부 (0: 취소되지 않음, 1: 취소됨)\n",
    "Origin_Airport: 해당 항공편 출발 공항의 고유 코드 (IATA 공항 코드)\n",
    "Origin_Airport_ID: 해당 항공편 출발 공항의 고유 ID (US DOT ID)\n",
    "Origin_State: 해당 항공편 출발 공항이 위치한 주의 이름\n",
    "Destination_Airport: 해당 항공편 도착 공항의 고유 코드 (IATA 공항 코드)\n",
    "Destination_Airport_ID: 해당 항공편 도착 공항의 고유 ID (US DOT ID)\n",
    "Destination_State: 해당 항공편 도착 공항이 위치한 주의 이름\n",
    "Distance: 출발 공항과 도착 공항 사이의 거리 (mile 단위)\n",
    "Airline: 해당 항공편을 운항하는 항공사\n",
    "Carrier_Code(IATA): 해당 항공편을 운항하는 항공사의 고유 코드 \n",
    "(IATA 공항 코드, 단 다른 항공사가 같은 코드를 보유할 수도 있음)\n",
    "Carrier_ID(DOT): 해당 항공편을 운항하는 항공사의 고유 ID (US DOT ID)\n",
    "Tail_Number: 해당 항공편을 운항하는 항공기의 고유 등록번호\n",
    "\n",
    "- sample_submission.csv [제출양식]\n",
    "ID : 샘플 고유 id\n",
    "Not_Delayed: 특정 샘플에 해당하는 항공편이 지연되지 않을 확률\n",
    "Delayed: 특정 샘플에 해당하는 항공편이 지연될 확률\n",
    "'''"
   ]
  },
  {
   "cell_type": "markdown",
   "metadata": {},
   "source": [
    "## data pre-processing"
   ]
  },
  {
   "cell_type": "markdown",
   "metadata": {},
   "source": [
    "#### function import"
   ]
  },
  {
   "cell_type": "code",
   "execution_count": 1,
   "metadata": {},
   "outputs": [
    {
     "name": "stdout",
     "output_type": "stream",
     "text": [
      "WARNING:tensorflow:From c:\\Users\\human\\anaconda3\\Lib\\site-packages\\keras\\src\\losses.py:2976: The name tf.losses.sparse_softmax_cross_entropy is deprecated. Please use tf.compat.v1.losses.sparse_softmax_cross_entropy instead.\n",
      "\n"
     ]
    }
   ],
   "source": [
    "import numpy as np\n",
    "import pandas as pd\n",
    "#ㅡㅡㅡㅡㅡㅡㅡㅡㅡㅡㅡㅡㅡㅡㅡㅡㅡㅡㅡㅡㅡㅡㅡㅡㅡ\n",
    "import random\n",
    "import os\n",
    "import gc\n",
    "\n",
    "from sklearn.ensemble import RandomForestClassifier\n",
    "from sklearn.preprocessing import LabelEncoder\n",
    "#ㅡㅡㅡㅡㅡㅡㅡㅡㅡㅡㅡㅡㅡㅡㅡㅡㅡㅡㅡㅡㅡㅡㅡㅡㅡ\n",
    "import requests\n",
    "from bs4 import BeautifulSoup\n",
    "import matplotlib.pyplot as plt\n",
    "import seaborn as sns\n",
    "from sklearn.model_selection import GridSearchCV\n",
    "from sklearn.model_selection import train_test_split\n",
    "from sklearn.metrics import accuracy_score, f1_score, precision_score, recall_score\n",
    "from sklearn.metrics.pairwise import linear_kernel\n",
    "from sklearn.tree import DecisionTreeClassifier\n",
    "from sklearn.linear_model import LinearRegression\n",
    "from lightgbm import LGBMClassifier\n",
    "# ㅡㅡㅡㅡㅡㅡㅡㅡㅡㅡㅡㅡㅡㅡㅡㅡㅡㅡㅡㅡㅡㅡㅡㅡㅡㅡㅡㅡㅡㅡㅡㅡㅡㅡㅡㅡㅡㅡㅡㅡㅡㅡㅡㅡㅡㅡㅡ\n",
    "import tensorflow as tf\n",
    "from transformers import pipeline, set_seed, BertTokenizer, TFBertForSequenceClassification\n",
    "# ㅡㅡㅡㅡㅡㅡㅡㅡㅡㅡㅡㅡㅡㅡㅡㅡㅡㅡㅡㅡㅡㅡㅡㅡㅡㅡㅡㅡㅡㅡㅡㅡㅡㅡㅡㅡㅡㅡㅡㅡㅡㅡㅡㅡㅡㅡㅡ\n",
    "import re\n",
    "import nltk \n",
    "from nltk.corpus import stopwords\n",
    "# ㅡㅡㅡㅡㅡㅡㅡㅡㅡㅡㅡㅡㅡㅡㅡㅡㅡㅡㅡㅡㅡㅡㅡㅡㅡㅡㅡㅡㅡㅡㅡㅡㅡㅡㅡㅡㅡㅡㅡㅡㅡㅡㅡㅡㅡㅡㅡ\n",
    "from sentence_transformers import SentenceTransformer\n"
   ]
  },
  {
   "cell_type": "markdown",
   "metadata": {},
   "source": [
    "## Baseline 코드"
   ]
  },
  {
   "cell_type": "code",
   "execution_count": null,
   "metadata": {},
   "outputs": [],
   "source": [
    "def seed_everything(seed):\n",
    "    random.seed(seed)\n",
    "    os.environ['PYTHONHASHSEED']=str(seed)\n",
    "    np.random.seed(seed)\n",
    "seed_everything(42) #Seed 고정"
   ]
  },
  {
   "cell_type": "markdown",
   "metadata": {},
   "source": [
    "## csv to parquet \n",
    "- 메모리에 효율적인 데이터 유형을 사용하여 용량을 줄이고 빠른 작업이 가능."
   ]
  },
  {
   "cell_type": "code",
   "execution_count": null,
   "metadata": {},
   "outputs": [],
   "source": [
    "def csv_to_parquet(csv_path, save_name):\n",
    "    df = pd.read_csv(csv_path)\n",
    "    df.to_parquet(f'./{save_name}.parquet')\n",
    "    del df\n",
    "    gc.collect()\n",
    "    print(save_name, 'Done.')"
   ]
  },
  {
   "cell_type": "code",
   "execution_count": null,
   "metadata": {},
   "outputs": [],
   "source": [
    "csv_to_parquet('./train.csv', 'train' )\n",
    "csv_to_parquet('./test.csv', 'test')\n",
    "\n",
    "# train done\n",
    "# tewt done"
   ]
  },
  {
   "cell_type": "markdown",
   "metadata": {},
   "source": [
    "## Data Load"
   ]
  },
  {
   "cell_type": "code",
   "execution_count": null,
   "metadata": {},
   "outputs": [],
   "source": [
    "train = pd.read_parquet('./train.parquet')\n",
    "test = pd.read_parquet('./test.parquet')\n",
    "sample_submission = pd.read_csv('sample_submission.csv', index_col = 0)"
   ]
  },
  {
   "cell_type": "markdown",
   "metadata": {},
   "source": [
    "## Data Pre-Processing"
   ]
  },
  {
   "cell_type": "code",
   "execution_count": null,
   "metadata": {},
   "outputs": [],
   "source": [
    "# 레이블(Delay)을 제외한 결측값이 존재하는 변수들을 학습 데이터의 최빈값으로 대체함\n",
    "NaN_col = ['Origin_State', 'Destination_State', 'Airline', 'Estimated_Departure_Time', 'Estimated_Arrival_Time', 'Carrier_Code(IATA)', 'Carrier_ID(DOT)']\n",
    "\n",
    "for col in NaN_col:\n",
    "    mode = train[col].mode()[0]\n",
    "    train[col] = train[col].fillna(mode)\n",
    "    \n",
    "    if col in test.columns:\n",
    "        test[col] = test[col].fillna(mode)\n",
    "print('Done.')"
   ]
  },
  {
   "cell_type": "code",
   "execution_count": null,
   "metadata": {},
   "outputs": [],
   "source": [
    "#질적 변수들을 수치화\n",
    "qual_col = ['Origin_Airport', 'Origin_State', 'Destination_Airport', 'Destination_State', 'Airline', 'Carrier_Code(IATA)', 'Tail_Number']\n",
    "\n",
    "for i in qual_col:\n",
    "    le = LabelEncoder()\n",
    "    le=le.fit(train[i])\n",
    "    train[i]=le.transform(train[i])\n",
    "    \n",
    "    for label in np.unique(test[i]):\n",
    "        if label not in le.classes_: \n",
    "            le.classes_ = np.append(le.classes_, label)\n",
    "    test[i]=le.transform(test[i])\n",
    "print('Done.')"
   ]
  },
  {
   "cell_type": "code",
   "execution_count": null,
   "metadata": {},
   "outputs": [],
   "source": [
    "#레이블이 없는 데이터들을 제거합니다\n",
    "train = train.dropna()"
   ]
  },
  {
   "cell_type": "code",
   "execution_count": null,
   "metadata": {},
   "outputs": [],
   "source": [
    "column_number = {}\n",
    "for i, column in enumerate(sample_submission.columns):\n",
    "    column_number[column] = i\n",
    "    \n",
    "def to_number(x, dic):\n",
    "    return dic[x]\n",
    "\n",
    "train.loc[:, 'Delay_num'] = train['Delay'].apply(lambda x: to_number(x, column_number))\n",
    "print('Done.')"
   ]
  },
  {
   "cell_type": "code",
   "execution_count": null,
   "metadata": {},
   "outputs": [],
   "source": [
    "train_x = train.drop(columns=['ID', 'Delay', 'Delay_num'])\n",
    "train_y = train['Delay_num']\n",
    "test_x = test.drop(columns=['ID'])"
   ]
  },
  {
   "cell_type": "markdown",
   "metadata": {},
   "source": [
    "## Classification Model Fit"
   ]
  },
  {
   "cell_type": "code",
   "execution_count": null,
   "metadata": {},
   "outputs": [],
   "source": [
    "clf = RandomForestClassifier()\n",
    "clf.fit(train_x, train_y)"
   ]
  },
  {
   "cell_type": "markdown",
   "metadata": {},
   "source": [
    "## Inference"
   ]
  },
  {
   "cell_type": "code",
   "execution_count": null,
   "metadata": {},
   "outputs": [],
   "source": [
    "y_pred = clf.predict_proba(test_x)"
   ]
  },
  {
   "cell_type": "markdown",
   "metadata": {},
   "source": [
    "## Submit"
   ]
  },
  {
   "cell_type": "code",
   "execution_count": null,
   "metadata": {},
   "outputs": [],
   "source": [
    "submission = pd.DataFrame(data=y_pred, columns=sample_submission.columns, index=sample_submission.index)\n",
    "\n",
    "submission.to_csv('baseline_submission.csv', index=True)"
   ]
  },
  {
   "cell_type": "markdown",
   "metadata": {},
   "source": [
    "#### Load Data"
   ]
  },
  {
   "cell_type": "code",
   "execution_count": 3,
   "metadata": {},
   "outputs": [
    {
     "name": "stdout",
     "output_type": "stream",
     "text": [
      "학습용 데이터 : \n",
      "                  ID  Month  Day_of_Month  Estimated_Departure_Time  \\\n",
      "0       TRAIN_000000      4            15                       NaN   \n",
      "1       TRAIN_000001      8            15                     740.0   \n",
      "2       TRAIN_000002      9             6                    1610.0   \n",
      "3       TRAIN_000003      7            10                     905.0   \n",
      "4       TRAIN_000004      1            11                     900.0   \n",
      "...              ...    ...           ...                       ...   \n",
      "999995  TRAIN_999995      9            18                     936.0   \n",
      "999996  TRAIN_999996      5            30                     920.0   \n",
      "999997  TRAIN_999997      6            28                     800.0   \n",
      "999998  TRAIN_999998      9            27                    1613.0   \n",
      "999999  TRAIN_999999      3            26                    1800.0   \n",
      "\n",
      "        Estimated_Arrival_Time  Cancelled  Diverted Origin_Airport  \\\n",
      "0                          NaN          0         0            OKC   \n",
      "1                       1024.0          0         0            ORD   \n",
      "2                       1805.0          0         0            CLT   \n",
      "3                       1735.0          0         0            LAX   \n",
      "4                       1019.0          0         0            SFO   \n",
      "...                        ...        ...       ...            ...   \n",
      "999995                  1243.0          0         0            ORD   \n",
      "999996                  1028.0          0         0            FAR   \n",
      "999997                  1340.0          0         0            OAK   \n",
      "999998                  1824.0          0         0            BNA   \n",
      "999999                  2056.0          0         0            RSW   \n",
      "\n",
      "        Origin_Airport_ID    Origin_State Destination_Airport  \\\n",
      "0                   13851        Oklahoma                 HOU   \n",
      "1                   13930        Illinois                 SLC   \n",
      "2                   11057  North Carolina                 LGA   \n",
      "3                   12892      California                 EWR   \n",
      "4                   14771      California                 ACV   \n",
      "...                   ...             ...                 ...   \n",
      "999995              13930             NaN                 PHL   \n",
      "999996              11637             NaN                 MSP   \n",
      "999997              13796             NaN                 HOU   \n",
      "999998              10693       Tennessee                 ATL   \n",
      "999999              14635         Florida                 DTW   \n",
      "\n",
      "        Destination_Airport_ID Destination_State  Distance  \\\n",
      "0                        12191             Texas     419.0   \n",
      "1                        14869              Utah    1250.0   \n",
      "2                        12953          New York     544.0   \n",
      "3                        11618        New Jersey    2454.0   \n",
      "4                        10157        California     250.0   \n",
      "...                        ...               ...       ...   \n",
      "999995                   14100               NaN     678.0   \n",
      "999996                   13487         Minnesota     223.0   \n",
      "999997                   12191             Texas    1642.0   \n",
      "999998                   10397               NaN     214.0   \n",
      "999999                   11433          Michigan    1084.0   \n",
      "\n",
      "                       Airline Carrier_Code(IATA)  Carrier_ID(DOT)  \\\n",
      "0       Southwest Airlines Co.                 WN          19393.0   \n",
      "1        SkyWest Airlines Inc.                 UA          20304.0   \n",
      "2       American Airlines Inc.                 AA          19805.0   \n",
      "3        United Air Lines Inc.                 UA              NaN   \n",
      "4        SkyWest Airlines Inc.                 UA          20304.0   \n",
      "...                        ...                ...              ...   \n",
      "999995   United Air Lines Inc.                 UA          19977.0   \n",
      "999996   SkyWest Airlines Inc.                 DL              NaN   \n",
      "999997  Southwest Airlines Co.                 WN          19393.0   \n",
      "999998    Delta Air Lines Inc.                 DL          19790.0   \n",
      "999999                     NaN                 DL          19790.0   \n",
      "\n",
      "       Tail_Number Delay  \n",
      "0           N7858A   NaN  \n",
      "1           N125SY   NaN  \n",
      "2           N103US   NaN  \n",
      "3           N595UA   NaN  \n",
      "4           N161SY   NaN  \n",
      "...            ...   ...  \n",
      "999995      N477UA   NaN  \n",
      "999996      N439SW   NaN  \n",
      "999997      N230WN   NaN  \n",
      "999998      N968DL   NaN  \n",
      "999999      N695DL   NaN  \n",
      "\n",
      "[1000000 rows x 19 columns]\n",
      "********************************************************************************\n",
      "평가용 데이터 : \n",
      "                 ID  Month  Day_of_Month  Estimated_Departure_Time  \\\n",
      "0       TEST_000000     12            16                    1156.0   \n",
      "1       TEST_000001      9            12                    1500.0   \n",
      "2       TEST_000002      3             6                    1600.0   \n",
      "3       TEST_000003      5            18                    1920.0   \n",
      "4       TEST_000004      7             7                    1915.0   \n",
      "...             ...    ...           ...                       ...   \n",
      "999995  TEST_999995      6             2                       NaN   \n",
      "999996  TEST_999996      6             8                     600.0   \n",
      "999997  TEST_999997      6            11                    1710.0   \n",
      "999998  TEST_999998     11            17                       NaN   \n",
      "999999  TEST_999999     10            13                    1220.0   \n",
      "\n",
      "        Estimated_Arrival_Time  Cancelled  Diverted Origin_Airport  \\\n",
      "0                          NaN          0         0            IAH   \n",
      "1                       1715.0          0         0            EWR   \n",
      "2                       1915.0          0         0            ORD   \n",
      "3                       2045.0          0         0            OAK   \n",
      "4                       2152.0          0         0            FLL   \n",
      "...                        ...        ...       ...            ...   \n",
      "999995                  2240.0          0         0            LAX   \n",
      "999996                   648.0          0         0            BUF   \n",
      "999997                  1907.0          0         0            IAD   \n",
      "999998                   500.0          0         0            SAN   \n",
      "999999                  1345.0          0         0            OAK   \n",
      "\n",
      "        Origin_Airport_ID Origin_State Destination_Airport  \\\n",
      "0                   12266        Texas                 SAT   \n",
      "1                   11618   New Jersey                 ATL   \n",
      "2                   13930     Illinois                 LGA   \n",
      "3                   13796   California                 LAX   \n",
      "4                   11697      Florida                 LAX   \n",
      "...                   ...          ...                 ...   \n",
      "999995              12892   California                 DEN   \n",
      "999996              10792     New York                 ORD   \n",
      "999997              12264          NaN                 DTW   \n",
      "999998              14679   California                 BOS   \n",
      "999999              13796   California                 LAX   \n",
      "\n",
      "        Destination_Airport_ID Destination_State  Distance  \\\n",
      "0                        14683             Texas     191.0   \n",
      "1                        10397               NaN     746.0   \n",
      "2                        12953          New York     733.0   \n",
      "3                        12892        California     337.0   \n",
      "4                        12892        California    2343.0   \n",
      "...                        ...               ...       ...   \n",
      "999995                   11292          Colorado     862.0   \n",
      "999996                   13930          Illinois     473.0   \n",
      "999997                   11433          Michigan     383.0   \n",
      "999998                   10721     Massachusetts    2588.0   \n",
      "999999                   12892               NaN     337.0   \n",
      "\n",
      "                       Airline Carrier_Code(IATA)  Carrier_ID(DOT) Tail_Number  \n",
      "0        United Air Lines Inc.                 UA              NaN      N79402  \n",
      "1         Delta Air Lines Inc.                 DL          19790.0       N3765  \n",
      "2        United Air Lines Inc.                 UA          19977.0      N413UA  \n",
      "3       Southwest Airlines Co.                 WN          19393.0      N905WN  \n",
      "4              JetBlue Airways                 B6          20409.0      N945JT  \n",
      "...                        ...                ...              ...         ...  \n",
      "999995  Southwest Airlines Co.                 WN          19393.0      N720WN  \n",
      "999996   United Air Lines Inc.                 UA          19977.0      N401UA  \n",
      "999997      Mesa Airlines Inc.                 UA          20378.0      N510MJ  \n",
      "999998         JetBlue Airways                 B6          20409.0      N986JB  \n",
      "999999                     NaN                 WN          19393.0      N733SA  \n",
      "\n",
      "[1000000 rows x 18 columns]\n"
     ]
    }
   ],
   "source": [
    "### 학습용 데이터 불러오기\n",
    "\n",
    "file_path = 'D:\\Code\\월간 데이콘 항공편 지연 예측 AI 경진대회/train.csv'\n",
    "\n",
    "df_train = pd.read_csv(file_path)\n",
    "\n",
    "print(f'학습용 데이터 : \\n{df_train}')\n",
    "\n",
    "print('*'*80)\n",
    "\n",
    "### 평가용 데이터 불러오기\n",
    "\n",
    "file_path = 'D:\\Code\\월간 데이콘 항공편 지연 예측 AI 경진대회/test.csv'\n",
    "\n",
    "df_test = pd.read_csv(file_path)\n",
    "\n",
    "print(f'평가용 데이터 : \\n{df_test}')"
   ]
  },
  {
   "cell_type": "markdown",
   "metadata": {},
   "source": [
    "#### 컬럼의 설명 주석\n",
    "- 'Estimated_Departure_Time' : 예상 출발 시간\n",
    "- 'Estimated_Arrival_Time' : 예상 도착 시간\n",
    "- 'Diverted' : 회항(방향전환)"
   ]
  },
  {
   "cell_type": "code",
   "execution_count": 4,
   "metadata": {},
   "outputs": [
    {
     "name": "stdout",
     "output_type": "stream",
     "text": [
      "Index(['ID', 'Month', 'Day_of_Month', 'Estimated_Departure_Time',\n",
      "       'Estimated_Arrival_Time', 'Cancelled', 'Diverted', 'Origin_Airport',\n",
      "       'Origin_Airport_ID', 'Origin_State', 'Destination_Airport',\n",
      "       'Destination_Airport_ID', 'Destination_State', 'Distance', 'Airline',\n",
      "       'Carrier_Code(IATA)', 'Carrier_ID(DOT)', 'Tail_Number', 'Delay'],\n",
      "      dtype='object')\n"
     ]
    }
   ],
   "source": [
    "columns = df_train.columns\n",
    "\n",
    "print(columns) \n"
   ]
  },
  {
   "cell_type": "markdown",
   "metadata": {},
   "source": [
    "#### 학습용 데이터의 결측치 확인 및 제거"
   ]
  },
  {
   "cell_type": "code",
   "execution_count": 5,
   "metadata": {},
   "outputs": [
    {
     "name": "stdout",
     "output_type": "stream",
     "text": [
      "ID                               0\n",
      "Month                            0\n",
      "Day_of_Month                     0\n",
      "Estimated_Departure_Time    109019\n",
      "Estimated_Arrival_Time      109040\n",
      "Cancelled                        0\n",
      "Diverted                         0\n",
      "Origin_Airport                   0\n",
      "Origin_Airport_ID                0\n",
      "Origin_State                109015\n",
      "Destination_Airport              0\n",
      "Destination_Airport_ID           0\n",
      "Destination_State           109079\n",
      "Distance                         0\n",
      "Airline                     108920\n",
      "Carrier_Code(IATA)          108990\n",
      "Carrier_ID(DOT)             108997\n",
      "Tail_Number                      0\n",
      "Delay                       744999\n",
      "dtype: int64\n",
      "********************************************************************************\n",
      "                  ID  Month  Day_of_Month  Estimated_Departure_Time  \\\n",
      "0       TRAIN_000000      4            15                       NaN   \n",
      "1       TRAIN_000001      8            15                     740.0   \n",
      "2       TRAIN_000002      9             6                    1610.0   \n",
      "3       TRAIN_000003      7            10                     905.0   \n",
      "4       TRAIN_000004      1            11                     900.0   \n",
      "...              ...    ...           ...                       ...   \n",
      "999995  TRAIN_999995      9            18                     936.0   \n",
      "999996  TRAIN_999996      5            30                     920.0   \n",
      "999997  TRAIN_999997      6            28                     800.0   \n",
      "999998  TRAIN_999998      9            27                    1613.0   \n",
      "999999  TRAIN_999999      3            26                    1800.0   \n",
      "\n",
      "        Estimated_Arrival_Time  Cancelled  Diverted Origin_Airport  \\\n",
      "0                          NaN          0         0            OKC   \n",
      "1                       1024.0          0         0            ORD   \n",
      "2                       1805.0          0         0            CLT   \n",
      "3                       1735.0          0         0            LAX   \n",
      "4                       1019.0          0         0            SFO   \n",
      "...                        ...        ...       ...            ...   \n",
      "999995                  1243.0          0         0            ORD   \n",
      "999996                  1028.0          0         0            FAR   \n",
      "999997                  1340.0          0         0            OAK   \n",
      "999998                  1824.0          0         0            BNA   \n",
      "999999                  2056.0          0         0            RSW   \n",
      "\n",
      "        Origin_Airport_ID    Origin_State Destination_Airport  \\\n",
      "0                   13851        Oklahoma                 HOU   \n",
      "1                   13930        Illinois                 SLC   \n",
      "2                   11057  North Carolina                 LGA   \n",
      "3                   12892      California                 EWR   \n",
      "4                   14771      California                 ACV   \n",
      "...                   ...             ...                 ...   \n",
      "999995              13930             NaN                 PHL   \n",
      "999996              11637             NaN                 MSP   \n",
      "999997              13796             NaN                 HOU   \n",
      "999998              10693       Tennessee                 ATL   \n",
      "999999              14635         Florida                 DTW   \n",
      "\n",
      "        Destination_Airport_ID Destination_State  Distance  \\\n",
      "0                        12191             Texas     419.0   \n",
      "1                        14869              Utah    1250.0   \n",
      "2                        12953          New York     544.0   \n",
      "3                        11618        New Jersey    2454.0   \n",
      "4                        10157        California     250.0   \n",
      "...                        ...               ...       ...   \n",
      "999995                   14100               NaN     678.0   \n",
      "999996                   13487         Minnesota     223.0   \n",
      "999997                   12191             Texas    1642.0   \n",
      "999998                   10397               NaN     214.0   \n",
      "999999                   11433          Michigan    1084.0   \n",
      "\n",
      "                       Airline Carrier_Code(IATA)  Carrier_ID(DOT)  \\\n",
      "0       Southwest Airlines Co.                 WN          19393.0   \n",
      "1        SkyWest Airlines Inc.                 UA          20304.0   \n",
      "2       American Airlines Inc.                 AA          19805.0   \n",
      "3        United Air Lines Inc.                 UA              NaN   \n",
      "4        SkyWest Airlines Inc.                 UA          20304.0   \n",
      "...                        ...                ...              ...   \n",
      "999995   United Air Lines Inc.                 UA          19977.0   \n",
      "999996   SkyWest Airlines Inc.                 DL              NaN   \n",
      "999997  Southwest Airlines Co.                 WN          19393.0   \n",
      "999998    Delta Air Lines Inc.                 DL          19790.0   \n",
      "999999                     NaN                 DL          19790.0   \n",
      "\n",
      "       Tail_Number Delay  \n",
      "0           N7858A   NaN  \n",
      "1           N125SY   NaN  \n",
      "2           N103US   NaN  \n",
      "3           N595UA   NaN  \n",
      "4           N161SY   NaN  \n",
      "...            ...   ...  \n",
      "999995      N477UA   NaN  \n",
      "999996      N439SW   NaN  \n",
      "999997      N230WN   NaN  \n",
      "999998      N968DL   NaN  \n",
      "999999      N695DL   NaN  \n",
      "\n",
      "[1000000 rows x 19 columns]\n",
      "********************************************************************************\n",
      "                  ID  Month  Day_of_Month  Cancelled  Diverted Origin_Airport  \\\n",
      "0       TRAIN_000000      4            15          0         0            OKC   \n",
      "1       TRAIN_000001      8            15          0         0            ORD   \n",
      "2       TRAIN_000002      9             6          0         0            CLT   \n",
      "3       TRAIN_000003      7            10          0         0            LAX   \n",
      "4       TRAIN_000004      1            11          0         0            SFO   \n",
      "...              ...    ...           ...        ...       ...            ...   \n",
      "999995  TRAIN_999995      9            18          0         0            ORD   \n",
      "999996  TRAIN_999996      5            30          0         0            FAR   \n",
      "999997  TRAIN_999997      6            28          0         0            OAK   \n",
      "999998  TRAIN_999998      9            27          0         0            BNA   \n",
      "999999  TRAIN_999999      3            26          0         0            RSW   \n",
      "\n",
      "        Origin_Airport_ID Destination_Airport  Destination_Airport_ID  \\\n",
      "0                   13851                 HOU                   12191   \n",
      "1                   13930                 SLC                   14869   \n",
      "2                   11057                 LGA                   12953   \n",
      "3                   12892                 EWR                   11618   \n",
      "4                   14771                 ACV                   10157   \n",
      "...                   ...                 ...                     ...   \n",
      "999995              13930                 PHL                   14100   \n",
      "999996              11637                 MSP                   13487   \n",
      "999997              13796                 HOU                   12191   \n",
      "999998              10693                 ATL                   10397   \n",
      "999999              14635                 DTW                   11433   \n",
      "\n",
      "        Distance Tail_Number  \n",
      "0          419.0      N7858A  \n",
      "1         1250.0      N125SY  \n",
      "2          544.0      N103US  \n",
      "3         2454.0      N595UA  \n",
      "4          250.0      N161SY  \n",
      "...          ...         ...  \n",
      "999995     678.0      N477UA  \n",
      "999996     223.0      N439SW  \n",
      "999997    1642.0      N230WN  \n",
      "999998     214.0      N968DL  \n",
      "999999    1084.0      N695DL  \n",
      "\n",
      "[1000000 rows x 11 columns]\n"
     ]
    }
   ],
   "source": [
    "n_nulls = df_train.isnull().sum()\n",
    "\n",
    "print(n_nulls)\n",
    "\n",
    "print('*'*80)\n",
    "\n",
    "# 8개의 컬럼을 제거\n",
    "\n",
    "print(df_train)\n",
    "\n",
    "print('*'*80)\n",
    "\n",
    "cleaned_df_train = df_train.drop(columns=['Estimated_Departure_Time','Estimated_Arrival_Time','Origin_State','Destination_State','Airline','Carrier_Code(IATA)','Carrier_ID(DOT)','Delay'])\n",
    "\n",
    "print(cleaned_df_train)\n",
    "\n",
    "# 1. df_train.dropna(subset=[\n",
    "## subset의 axis는 어치파 인 지워도 됨. 누락값을 지울거니까. 컬럼만 지정해줄 때 쓰는 subset.\n",
    "# 2. Delay가 정답컬럼과 연관이 있는지..? "
   ]
  }
 ],
 "metadata": {
  "kernelspec": {
   "display_name": "NvulyTarget",
   "language": "python",
   "name": "conda"
  },
  "language_info": {
   "codemirror_mode": {
    "name": "ipython",
    "version": 3
   },
   "file_extension": ".py",
   "mimetype": "text/x-python",
   "name": "python",
   "nbconvert_exporter": "python",
   "pygments_lexer": "ipython3",
   "version": "3.11.5"
  }
 },
 "nbformat": 4,
 "nbformat_minor": 2
}
